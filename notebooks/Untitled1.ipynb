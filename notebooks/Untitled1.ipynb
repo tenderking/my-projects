{
 "cells": [
  {
   "cell_type": "code",
   "execution_count": 8,
   "metadata": {},
   "outputs": [],
   "source": [
    "import tensorflow\n",
    "import keras"
   ]
  },
  {
   "cell_type": "code",
   "execution_count": 10,
   "metadata": {},
   "outputs": [
    {
     "name": "stdout",
     "output_type": "stream",
     "text": [
      "Root dir exists: True\n",
      "Train dir exists: False\n",
      "Validation dir exists: False\n"
     ]
    }
   ],
   "source": [
    "\n",
    "import os\n",
    "\n",
    "print('Root dir exists: {}'.format(os.path.isdir('flowers')))\n",
    "print('Train dir exists: {}'.format(\n",
    "      os.path.isdir(os.path.join('flowers', 'train'))))\n",
    "print('Validation dir exists: {}'.format(\n",
    "      os.path.isdir(os.path.join('flowers', 'val'))))\n"
   ]
  },
  {
   "cell_type": "code",
   "execution_count": null,
   "metadata": {},
   "outputs": [],
   "source": [
    "from keras.applications.vgg19 import VGG19"
   ]
  }
 ],
 "metadata": {
  "kernelspec": {
   "display_name": "Python 3",
   "language": "python",
   "name": "python3"
  },
  "language_info": {
   "codemirror_mode": {
    "name": "ipython",
    "version": 3
   },
   "file_extension": ".py",
   "mimetype": "text/x-python",
   "name": "python",
   "nbconvert_exporter": "python",
   "pygments_lexer": "ipython3",
   "version": "3.7.3"
  }
 },
 "nbformat": 4,
 "nbformat_minor": 2
}
