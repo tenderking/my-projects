{
 "cells": [
  {
   "cell_type": "code",
   "execution_count": 1,
   "metadata": {},
   "outputs": [
    {
     "ename": "FileExistsError",
     "evalue": "[WinError 183] Kan ikke opprette en fil når filen allerede finnes: 'flowers'",
     "output_type": "error",
     "traceback": [
      "\u001b[1;31m---------------------------------------------------------------------------\u001b[0m",
      "\u001b[1;31mFileExistsError\u001b[0m                           Traceback (most recent call last)",
      "\u001b[1;32m<ipython-input-1-adc994a2e774>\u001b[0m in \u001b[0;36m<module>\u001b[1;34m\u001b[0m\n\u001b[0;32m     11\u001b[0m     'cowslip', 'buttercup', 'windflower', 'pansy']\n\u001b[0;32m     12\u001b[0m \u001b[1;33m\u001b[0m\u001b[0m\n\u001b[1;32m---> 13\u001b[1;33m \u001b[0mos\u001b[0m\u001b[1;33m.\u001b[0m\u001b[0mmkdir\u001b[0m\u001b[1;33m(\u001b[0m\u001b[1;34m'flowers'\u001b[0m\u001b[1;33m)\u001b[0m\u001b[1;33m\u001b[0m\u001b[1;33m\u001b[0m\u001b[0m\n\u001b[0m\u001b[0;32m     14\u001b[0m \u001b[0mos\u001b[0m\u001b[1;33m.\u001b[0m\u001b[0mmkdir\u001b[0m\u001b[1;33m(\u001b[0m\u001b[0mos\u001b[0m\u001b[1;33m.\u001b[0m\u001b[0mpath\u001b[0m\u001b[1;33m.\u001b[0m\u001b[0mjoin\u001b[0m\u001b[1;33m(\u001b[0m\u001b[1;34m'flowers'\u001b[0m\u001b[1;33m,\u001b[0m \u001b[1;34m'train'\u001b[0m\u001b[1;33m)\u001b[0m\u001b[1;33m)\u001b[0m\u001b[1;33m\u001b[0m\u001b[1;33m\u001b[0m\u001b[0m\n\u001b[0;32m     15\u001b[0m \u001b[0mos\u001b[0m\u001b[1;33m.\u001b[0m\u001b[0mmkdir\u001b[0m\u001b[1;33m(\u001b[0m\u001b[0mos\u001b[0m\u001b[1;33m.\u001b[0m\u001b[0mpath\u001b[0m\u001b[1;33m.\u001b[0m\u001b[0mjoin\u001b[0m\u001b[1;33m(\u001b[0m\u001b[1;34m'flowers'\u001b[0m\u001b[1;33m,\u001b[0m \u001b[1;34m'val'\u001b[0m\u001b[1;33m)\u001b[0m\u001b[1;33m)\u001b[0m\u001b[1;33m\u001b[0m\u001b[1;33m\u001b[0m\u001b[0m\n",
      "\u001b[1;31mFileExistsError\u001b[0m: [WinError 183] Kan ikke opprette en fil når filen allerede finnes: 'flowers'"
     ]
    }
   ],
   "source": [
    "import os\n",
    "import shutil\n",
    "\n",
    "\n",
    "SOURCE = 'jpg'\n",
    "NUM_IMAGES_PER_FLOWER = 80\n",
    "NUM_TRAIN_IMAGES = 65\n",
    "\n",
    "FLOWER_NAMES = ['daffodil', 'snowdrop', 'lily_valley', 'bluebell', 'crocus', 'iris', \\\n",
    "    'tigerlily', 'tulip', 'fritillary', 'sunflower', 'daisy', 'colts_foot', 'dandelion', \\\n",
    "    'cowslip', 'buttercup', 'windflower', 'pansy']\n",
    "\n",
    "os.mkdir('flowers')\n",
    "os.mkdir(os.path.join('flowers', 'train'))\n",
    "os.mkdir(os.path.join('flowers', 'val'))\n",
    "\n",
    "for i in range(len(FLOWER_NAMES)):\n",
    "    os.mkdir(os.path.join('flowers', 'train', FLOWER_NAMES[i]))\n",
    "    os.mkdir(os.path.join('flowers', 'val', FLOWER_NAMES[i]))\n",
    "    for j in range(NUM_IMAGES_PER_FLOWER):\n",
    "        index = (i * 80) + j + 1\n",
    "        index = str(index)\n",
    "        index = ('0' * (4 - len(index))) + index\n",
    "        filename = 'image_{}.jpg'.format(index)\n",
    "        src = os.path.join(SOURCE, filename)\n",
    "\n",
    "        if j < NUM_TRAIN_IMAGES:\n",
    "            dest = os.path.join('flowers', 'train', FLOWER_NAMES[i], filename)\n",
    "        else:\n",
    "            dest = os.path.join('flowers', 'val', FLOWER_NAMES[i], filename)\n",
    "\n",
    "        shutil.copyfile(src, dest)"
   ]
  },
  {
   "cell_type": "code",
   "execution_count": null,
   "metadata": {},
   "outputs": [],
   "source": []
  }
 ],
 "metadata": {
  "kernelspec": {
   "display_name": "Python 3",
   "language": "python",
   "name": "python3"
  },
  "language_info": {
   "codemirror_mode": {
    "name": "ipython",
    "version": 3
   },
   "file_extension": ".py",
   "mimetype": "text/x-python",
   "name": "python",
   "nbconvert_exporter": "python",
   "pygments_lexer": "ipython3",
   "version": "3.7.3"
  }
 },
 "nbformat": 4,
 "nbformat_minor": 2
}
